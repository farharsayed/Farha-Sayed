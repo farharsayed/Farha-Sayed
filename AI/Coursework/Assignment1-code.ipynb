{
 "cells": [
  {
   "cell_type": "code",
   "execution_count": 19,
   "metadata": {},
   "outputs": [
    {
     "name": "stderr",
     "output_type": "stream",
     "text": [
      "A subdirectory or file -p already exists.\n",
      "Error occurred while processing: -p.\n",
      "A subdirectory or file bbmodcache already exists.\n",
      "Error occurred while processing: bbmodcache.\n",
      "  % Total    % Received % Xferd  Average Speed   Time    Time     Time  Current\n",
      "                                 Dload  Upload   Total   Spent    Left  Speed\n",
      "\n",
      "  0     0    0     0    0     0      0      0 --:--:-- --:--:-- --:--:--     0\n",
      "  0     0    0     0    0     0      0      0 --:--:-- --:--:-- --:--:--     0\n",
      "100 18767  100 18767    0     0  36774      0 --:--:-- --:--:-- --:--:-- 36870\n"
     ]
    }
   ],
   "source": [
    "!mkdir -p bbmodcache\n",
    "!curl http://bb-ai.net.s3.amazonaws.com/bb-python-modules/bbSearch.py > bbmodcache/bbSearch.py\n",
    "from bbmodcache.bbSearch import SearchProblem, search"
   ]
  },
  {
   "cell_type": "code",
   "execution_count": 20,
   "metadata": {},
   "outputs": [],
   "source": [
    "class Robot:  #meds_on_hand = meds_on_hand rooms\n",
    "    def __init__(self, location, meds_on_hand, battery):\n",
    "        self.location      = location\n",
    "        self.meds_on_hand = meds_on_hand\n",
    "        self.battery      = battery\n",
    "        \n",
    "    def weight_carried(self):\n",
    "        return sum([ITEM_WEIGHT[i] for i in self.meds_on_hand])\n",
    "    \n",
    "    ## Define unique string representation for the state of the robot object\n",
    "    def __repr__(self):\n",
    "        return str( ( self.location, \n",
    "                      self.meds_on_hand,\n",
    "                      self.battery ) )\n",
    "            \n",
    "class Door:\n",
    "    def __init__(self, roomA, roomB, doorkey=None, locked=False):\n",
    "        self.goes_between = {roomA, roomB}\n",
    "        self.doorkey      = doorkey\n",
    "        self.locked       = locked\n",
    "        # Define handy dictionary to get room on other side of a door\n",
    "        self.other_loc = {roomA:roomB, roomB:roomA}\n",
    "        \n",
    "    ## Define a unique string representation for a door object    \n",
    "    def __repr__(self):\n",
    "        return str( (\"door\", self.goes_between, self.doorkey, self.locked) )"
   ]
  },
  {
   "cell_type": "code",
   "execution_count": 21,
   "metadata": {},
   "outputs": [],
   "source": [
    "class State:\n",
    "    def __init__( self, robot, doors, room_contents ):\n",
    "        self.robot = robot\n",
    "        self.doors = doors\n",
    "        self.room_contents = room_contents\n",
    "        \n",
    "    ## Define a string representation that will be uniquely identify the state.\n",
    "    ## An easy way is to form a tuple of representations of the components of \n",
    "    ## the state, then form a string from that:\n",
    "    def __repr__(self):\n",
    "        return str( ( self.robot.__repr__(),\n",
    "                      [d.__repr__() for d in self.doors],\n",
    "                      self.room_contents ) )\n",
    "  "
   ]
  },
  {
   "cell_type": "code",
   "execution_count": 22,
   "metadata": {},
   "outputs": [],
   "source": [
    "ROOM_CONTENTS = {\n",
    "    'Doctor Office'     : {'AOTD','WasteE'},\n",
    "    'Patient Ward'   : {'WasteA', 'WasteB'},\n",
    "    'Pharmacy' : {'PresPackageA', 'PresPackageB', 'PresPackageC', 'PresPackageD','WasteD'},\n",
    "    'Waste Disposal' : {'WasteC'},\n",
    "}\n",
    "\n",
    "ITEM_WEIGHT = {\n",
    "          'AOTD' : 5,\n",
    "        'WasteA' : 23,\n",
    "        'WasteB' : 23,\n",
    "  'PresPackageD' : 15,\n",
    "  'PresPackageA' : 15,\n",
    "  'PresPackageB' : 15,\n",
    "  'PresPackageC' : 15,\n",
    "        'WasteC' : 23,\n",
    "    'WasteD' : 20,\n",
    "    'WasteE' : 20,\n",
    "}\n",
    "          \n",
    "DOORS = [\n",
    "    Door('Doctor Office', 'Patient Ward' ),\n",
    "    Door( 'Patient Ward', 'Pharmacy', doorkey='AOTD', locked=False ), #Pharmacy, PatientWard, Waste\n",
    "    Door('Patient Ward','Waste Disposal')\n",
    "]    \n",
    "    "
   ]
  },
  {
   "cell_type": "code",
   "execution_count": 23,
   "metadata": {},
   "outputs": [],
   "source": [
    "from copy import deepcopy\n",
    "\n",
    "class RobotWorker( SearchProblem ):\n",
    "    \n",
    "    def __init__( self, state, goal_item_locations ):\n",
    "        self.initial_state = state\n",
    "        self.goal_item_locations = goal_item_locations\n",
    "        \n",
    "    def possible_actions( self, state ):\n",
    "        \n",
    "        robot_location = state.robot.location\n",
    "        battery       = state.robot.battery\n",
    "        weight_carried = state.robot.weight_carried()\n",
    "        \n",
    "        actions = []\n",
    "        # Can put down any meds_on_hand\n",
    "        for i in state.robot.meds_on_hand:\n",
    "            actions.append( (\"put down\", i) )\n",
    "\n",
    "        # Can pick up any item in room if strong enough    \n",
    "        for i in state.room_contents[robot_location]:\n",
    "            if battery >= weight_carried + ITEM_WEIGHT[i]:\n",
    "                actions.append( (\"pick up\", i))\n",
    "                \n",
    "        # If there is an unlocked door between robot location and\n",
    "        # another location can move to that location\n",
    "        for door in state.doors:\n",
    "            if  door.locked==False and robot_location in door.goes_between:\n",
    "                actions.append( (\"move to\", door.other_loc[robot_location]) )\n",
    "                \n",
    "        # Now the actions list should contain all possible actions\n",
    "        return actions\n",
    "    \n",
    "    def successor( self, state, action):\n",
    "        next_state = deepcopy(state)\n",
    "        act, target = action\n",
    "        if act== \"put down\":\n",
    "            next_state.robot.meds_on_hand.remove(target)\n",
    "            next_state.room_contents[state.robot.location].add(target)\n",
    "            \n",
    "        if act == \"pick up\":\n",
    "            next_state.robot.meds_on_hand.append(target)\n",
    "            next_state.room_contents[state.robot.location].remove(target)\n",
    "            \n",
    "        if act == \"move to\":\n",
    "            next_state.robot.location = target\n",
    "            \n",
    "        return next_state\n",
    "        \n",
    "    def goal_test(self, state):\n",
    "        #print(state.room_contents)\n",
    "        for room, contents in self.goal_item_locations.items():\n",
    "            for i in contents:\n",
    "                if not i in state.room_contents[room]:\n",
    "                    return False\n",
    "        return True\n",
    "    \n",
    "    def display_state(self,state):\n",
    "        print(\"Robot location:\", state.robot.location)\n",
    "        print(\"Robot carrying:\", state.robot.meds_on_hand)\n",
    "        print(\"Room contents:\", state.room_contents)"
   ]
  },
  {
   "cell_type": "code",
   "execution_count": 24,
   "metadata": {},
   "outputs": [],
   "source": [
    "rob = Robot('Waste Disposal', [], 150 )\n",
    "        \n",
    "state = State(rob, DOORS, ROOM_CONTENTS)\n",
    "\n",
    "#goal_item_locations = {\"Patient Ward\" : {\"PresPackageA\",\"PresPackageB\"},\n",
    " #                      \"Waste Disposal\" :{\"WasteA\",\"WasteB\"}} \n",
    "#\"Patient Ward\":{\"PresPackageA\", \"PresPackageB\", \"PresPackageC\", \"PresPackageD\"},\n",
    "\n",
    "goal_item_locations = {\"Patient Ward\":{\"PresPackageA\", \"PresPackageB\"},\n",
    "                       \"Waste Disposal\" :{\"WasteA\",\"WasteB\",\"WasteD\",\"WasteE\"}}\n",
    "        \n",
    "RW_PROBLEM_1 = RobotWorker( state, goal_item_locations )    "
   ]
  },
  {
   "cell_type": "code",
   "execution_count": 25,
   "metadata": {},
   "outputs": [
    {
     "data": {
      "text/plain": [
       "[('pick up', 'WasteC'), ('move to', 'Patient Ward')]"
      ]
     },
     "execution_count": 25,
     "metadata": {},
     "output_type": "execute_result"
    }
   ],
   "source": [
    "poss_acts = RW_PROBLEM_1.possible_actions( RW_PROBLEM_1.initial_state )\n",
    "poss_acts"
   ]
  },
  {
   "cell_type": "code",
   "execution_count": 26,
   "metadata": {},
   "outputs": [
    {
     "name": "stdout",
     "output_type": "stream",
     "text": [
      "Action ('pick up', 'WasteC') leads to the following state:\n",
      "Robot location: Waste Disposal\n",
      "Robot carrying: ['WasteC']\n",
      "Room contents: {'Doctor Office': {'WasteE', 'AOTD'}, 'Patient Ward': {'WasteA', 'WasteB'}, 'Pharmacy': {'PresPackageD', 'PresPackageC', 'PresPackageA', 'PresPackageB', 'WasteD'}, 'Waste Disposal': set()}\n",
      "\n",
      "Action ('move to', 'Patient Ward') leads to the following state:\n",
      "Robot location: Patient Ward\n",
      "Robot carrying: []\n",
      "Room contents: {'Doctor Office': {'WasteE', 'AOTD'}, 'Patient Ward': {'WasteA', 'WasteB'}, 'Pharmacy': {'PresPackageD', 'PresPackageC', 'PresPackageA', 'PresPackageB', 'WasteD'}, 'Waste Disposal': {'WasteC'}}\n",
      "\n"
     ]
    }
   ],
   "source": [
    "for act in poss_acts:\n",
    "    print(\"Action\", act, \"leads to the following state:\")\n",
    "    next_state = RW_PROBLEM_1.successor( RW_PROBLEM_1.initial_state, act )\n",
    "    RW_PROBLEM_1.display_state(next_state)\n",
    "    print()"
   ]
  },
  {
   "cell_type": "code",
   "execution_count": 27,
   "id": "8513f535",
   "metadata": {},
   "outputs": [],
   "source": [
    "#TESTS"
   ]
  },
  {
   "cell_type": "code",
   "execution_count": 28,
   "metadata": {},
   "outputs": [],
   "source": [
    "#Heuristic1\n"
   ]
  },
  {
   "cell_type": "code",
   "execution_count": 29,
   "metadata": {},
   "outputs": [],
   "source": [
    "def MoveMeds(state):\n",
    "    counter = 0\n",
    "    for G_room,contents in goal_item_locations.items():\n",
    "        for item in contents:\n",
    "            if not item in state.room_contents[G_room]:\n",
    "                counter = counter + 1\n",
    "    return counter"
   ]
  },
  {
   "cell_type": "code",
   "execution_count": 30,
   "metadata": {},
   "outputs": [],
   "source": [
    "#Heuristic2\n"
   ]
  },
  {
   "cell_type": "code",
   "execution_count": 31,
   "metadata": {},
   "outputs": [],
   "source": [
    "def TasksRemaining(state):\n",
    "    counter = 0\n",
    "    rooms = 0\n",
    "    for G_room, items_to_move in goal_item_locations.items():\n",
    "        rooms = rooms + 1\n",
    "        room_complete = True\n",
    "        for item in items_to_move:\n",
    "            if not item in state.room_contents[G_room]:\n",
    "                room_complete = False\n",
    "                break\n",
    "        if room_complete:\n",
    "            counter = counter + 1\n",
    "    return rooms -counter"
   ]
  },
  {
   "cell_type": "code",
   "execution_count": 32,
   "metadata": {},
   "outputs": [
    {
     "name": "stdout",
     "output_type": "stream",
     "text": [
      "This is the general SearchProblem parent class\n",
      "You must extend this class to encode a particular search problem.\n",
      "\n",
      "** Running Brandon's Search Algorithm **\n",
      "Strategy: mode=BF/FIFO, cost=None, heuristic=TasksRemaining\n",
      "Max search nodes: 5000  (max number added to queue)\n",
      "Searching (will output '.' each 1000 goal_tests)\n",
      "\n",
      "!! Search node limit (5000) reached !!\n",
      "): No solution found :(\n",
      "\n",
      "\n",
      "SEARCH SPACE STATS:\n",
      "Total nodes generated          =     5001  (includes start)\n",
      "Nodes tested (by goal_test)    =      917  (all expanded)\n",
      "Nodes left in queue            =     4083\n",
      "\n",
      "Time taken = 0.6977 seconds\n",
      "\n"
     ]
    },
    {
     "data": {
      "text/plain": [
       "'NODE_LIMIT_EXCEEDED'"
      ]
     },
     "execution_count": 32,
     "metadata": {},
     "output_type": "execute_result"
    }
   ],
   "source": [
    "search( RW_PROBLEM_1, 'BF/FIFO', 5000, loop_check=False, heuristic=TasksRemaining)"
   ]
  },
  {
   "cell_type": "code",
   "execution_count": 33,
   "metadata": {},
   "outputs": [
    {
     "name": "stdout",
     "output_type": "stream",
     "text": [
      "This is the general SearchProblem parent class\n",
      "You must extend this class to encode a particular search problem.\n",
      "\n",
      "** Running Brandon's Search Algorithm **\n",
      "Strategy: mode=BF/FIFO, cost=None, heuristic=TasksRemaining\n",
      "Max search nodes: 50000  (max number added to queue)\n",
      "Searching (will output '.' each 1000 goal_tests)\n",
      ".........\n",
      "!! Search node limit (50000) reached !!\n",
      "): No solution found :(\n",
      "\n",
      "\n",
      "SEARCH SPACE STATS:\n",
      "Total nodes generated          =    50001  (includes start)\n",
      "Nodes tested (by goal_test)    =     9013  (all expanded)\n",
      "Nodes left in queue            =    40987\n",
      "\n",
      "Time taken = 7.5138 seconds\n",
      "\n"
     ]
    },
    {
     "data": {
      "text/plain": [
       "'NODE_LIMIT_EXCEEDED'"
      ]
     },
     "execution_count": 33,
     "metadata": {},
     "output_type": "execute_result"
    }
   ],
   "source": [
    "search( RW_PROBLEM_1, 'BF/FIFO', 50000, loop_check=False, heuristic=TasksRemaining)"
   ]
  },
  {
   "cell_type": "code",
   "execution_count": 35,
   "metadata": {},
   "outputs": [
    {
     "name": "stdout",
     "output_type": "stream",
     "text": [
      "This is the general SearchProblem parent class\n",
      "You must extend this class to encode a particular search problem.\n",
      "\n",
      "** Running Brandon's Search Algorithm **\n",
      "Strategy: mode=BF/FIFO, cost=None, heuristic=TasksRemaining\n",
      "Max search nodes: 500000  (max number added to queue)\n",
      "Searching (will output '.' each 1000 goal_tests)\n",
      "........................................................................................\n",
      "!! Search node limit (500000) reached !!\n",
      "): No solution found :(\n",
      "\n",
      "\n",
      "SEARCH SPACE STATS:\n",
      "Total nodes generated          =   500001  (includes start)\n",
      "Nodes tested (by goal_test)    =    88716  (all expanded)\n",
      "Nodes left in queue            =   411284\n",
      "\n",
      "Time taken = 187.9039 seconds\n",
      "\n"
     ]
    },
    {
     "data": {
      "text/plain": [
       "'NODE_LIMIT_EXCEEDED'"
      ]
     },
     "execution_count": 35,
     "metadata": {},
     "output_type": "execute_result"
    }
   ],
   "source": [
    "search( RW_PROBLEM_1, 'BF/FIFO', 500000, loop_check=False, heuristic=TasksRemaining)"
   ]
  },
  {
   "cell_type": "code",
   "execution_count": 36,
   "metadata": {
    "scrolled": true
   },
   "outputs": [
    {
     "name": "stdout",
     "output_type": "stream",
     "text": [
      "This is the general SearchProblem parent class\n",
      "You must extend this class to encode a particular search problem.\n",
      "\n",
      "** Running Brandon's Search Algorithm **\n",
      "Strategy: mode=BF/FIFO, cost=None, heuristic=TasksRemaining\n",
      "Max search nodes: 5000000  (max number added to queue)\n",
      "Searching (will output '.' each 1000 goal_tests)\n",
      ".................................................................................................... (100000)\n",
      ".................................................................................................... (200000)\n",
      ".................................................................................................... (300000)\n",
      ".................................................................................................... (400000)\n",
      ".................................................................................................... (500000)\n",
      ".................................................................................................... (600000)\n",
      ".................................................................................................... (700000)\n",
      ".................................................................................................... (800000)\n",
      ".............................................................\n",
      "!! Search node limit (5000000) reached !!\n",
      "): No solution found :(\n",
      "\n",
      "\n",
      "SEARCH SPACE STATS:\n",
      "Total nodes generated          =  5000001  (includes start)\n",
      "Nodes tested (by goal_test)    =   861840  (all expanded)\n",
      "Nodes left in queue            =  4138160\n",
      "\n",
      "Time taken = 8555.9437 seconds\n",
      "\n"
     ]
    },
    {
     "data": {
      "text/plain": [
       "'NODE_LIMIT_EXCEEDED'"
      ]
     },
     "execution_count": 36,
     "metadata": {},
     "output_type": "execute_result"
    }
   ],
   "source": [
    "search( RW_PROBLEM_1, 'BF/FIFO', 5000000, loop_check=False, heuristic=TasksRemaining)"
   ]
  },
  {
   "cell_type": "code",
   "execution_count": null,
   "metadata": {},
   "outputs": [],
   "source": [
    "def cost(path,state):\n",
    "    return len(path)"
   ]
  },
  {
   "cell_type": "code",
   "execution_count": null,
   "metadata": {},
   "outputs": [],
   "source": [
    "#A* Case 2\n"
   ]
  },
  {
   "cell_type": "code",
   "execution_count": null,
   "metadata": {},
   "outputs": [
    {
     "name": "stdout",
     "output_type": "stream",
     "text": [
      "This is the general SearchProblem parent class\n",
      "You must extend this class to encode a particular search problem.\n",
      "\n",
      "** Running Brandon's Search Algorithm **\n",
      "Strategy: mode=BF/FIFO, cost=cost, heuristic=TasksRemaining\n",
      "Max search nodes: 5000  (max number added to queue)\n",
      "Searching (will output '.' each 1000 goal_tests)\n",
      ".\n",
      "!! Search node limit (5000) reached !!\n",
      "): No solution found :(\n",
      "\n",
      "\n",
      "SEARCH SPACE STATS:\n",
      "Total nodes generated          =     8710  (includes start)\n",
      "Nodes discarded by loop_check  =     3709  (5001 distinct states added to queue)\n",
      "Nodes tested (by goal_test)    =     1370  (all expanded)\n",
      "Nodes left in queue            =     3630\n",
      "\n",
      "Time taken = 1.0947 seconds\n",
      "\n"
     ]
    },
    {
     "data": {
      "text/plain": [
       "'NODE_LIMIT_EXCEEDED'"
      ]
     },
     "execution_count": 56,
     "metadata": {},
     "output_type": "execute_result"
    }
   ],
   "source": [
    "search( RW_PROBLEM_1, 'BF/FIFO', 5000, loop_check=True, heuristic=TasksRemaining, cost = cost)"
   ]
  },
  {
   "cell_type": "code",
   "execution_count": null,
   "metadata": {},
   "outputs": [
    {
     "name": "stdout",
     "output_type": "stream",
     "text": [
      "This is the general SearchProblem parent class\n",
      "You must extend this class to encode a particular search problem.\n",
      "\n",
      "** Running Brandon's Search Algorithm **\n",
      "Strategy: mode=BF/FIFO, cost=cost, heuristic=TasksRemaining\n",
      "Max search nodes: 50000  (max number added to queue)\n",
      "Searching (will output '.' each 1000 goal_tests)\n",
      "...............\n",
      "!! Search node limit (50000) reached !!\n",
      "): No solution found :(\n",
      "\n",
      "\n",
      "SEARCH SPACE STATS:\n",
      "Total nodes generated          =   105511  (includes start)\n",
      "Nodes discarded by loop_check  =    55510  (50001 distinct states added to queue)\n",
      "Nodes tested (by goal_test)    =    15507  (all expanded)\n",
      "Nodes left in queue            =    34493\n",
      "\n",
      "Time taken = 14.4487 seconds\n",
      "\n"
     ]
    },
    {
     "data": {
      "text/plain": [
       "'NODE_LIMIT_EXCEEDED'"
      ]
     },
     "execution_count": 57,
     "metadata": {},
     "output_type": "execute_result"
    }
   ],
   "source": [
    "search( RW_PROBLEM_1, 'BF/FIFO', 50000, loop_check=True, heuristic=TasksRemaining, cost = cost)"
   ]
  },
  {
   "cell_type": "code",
   "execution_count": null,
   "metadata": {},
   "outputs": [
    {
     "name": "stdout",
     "output_type": "stream",
     "text": [
      "This is the general SearchProblem parent class\n",
      "You must extend this class to encode a particular search problem.\n",
      "\n",
      "** Running Brandon's Search Algorithm **\n",
      "Strategy: mode=BF/FIFO, cost=cost, heuristic=TasksRemaining\n",
      "Max search nodes: 500000  (max number added to queue)\n",
      "Searching (will output '.' each 1000 goal_tests)\n",
      ".................................................................................................... (100000)\n",
      "..............................................................................\n",
      "!! Search node limit (500000) reached !!\n",
      "): No solution found :(\n",
      "\n",
      "\n",
      "SEARCH SPACE STATS:\n",
      "Total nodes generated          =  1276107  (includes start)\n",
      "Nodes discarded by loop_check  =   776106  (500001 distinct states added to queue)\n",
      "Nodes tested (by goal_test)    =   178141  (all expanded)\n",
      "Nodes left in queue            =   321859\n",
      "\n",
      "Time taken = 199.8782 seconds\n",
      "\n"
     ]
    },
    {
     "data": {
      "text/plain": [
       "'NODE_LIMIT_EXCEEDED'"
      ]
     },
     "execution_count": 58,
     "metadata": {},
     "output_type": "execute_result"
    }
   ],
   "source": [
    "search( RW_PROBLEM_1, 'BF/FIFO', 500000, loop_check=True, heuristic=TasksRemaining, cost = cost)"
   ]
  },
  {
   "cell_type": "code",
   "execution_count": null,
   "metadata": {},
   "outputs": [],
   "source": [
    "#loop check is false"
   ]
  },
  {
   "cell_type": "code",
   "execution_count": null,
   "metadata": {},
   "outputs": [
    {
     "name": "stdout",
     "output_type": "stream",
     "text": [
      "This is the general SearchProblem parent class\n",
      "You must extend this class to encode a particular search problem.\n",
      "\n",
      "** Running Brandon's Search Algorithm **\n",
      "Strategy: mode=BF/FIFO, cost=cost, heuristic=TasksRemaining\n",
      "Max search nodes: 5000  (max number added to queue)\n",
      "Searching (will output '.' each 1000 goal_tests)\n",
      "\n",
      "!! Search node limit (5000) reached !!\n",
      "): No solution found :(\n",
      "\n",
      "\n",
      "SEARCH SPACE STATS:\n",
      "Total nodes generated          =     5001  (includes start)\n",
      "Nodes tested (by goal_test)    =      917  (all expanded)\n",
      "Nodes left in queue            =     4083\n",
      "\n",
      "Time taken = 0.5187 seconds\n",
      "\n"
     ]
    },
    {
     "data": {
      "text/plain": [
       "'NODE_LIMIT_EXCEEDED'"
      ]
     },
     "execution_count": 79,
     "metadata": {},
     "output_type": "execute_result"
    }
   ],
   "source": [
    "search( RW_PROBLEM_1, 'BF/FIFO', 5000, loop_check=False, heuristic=TasksRemaining, cost = cost)"
   ]
  },
  {
   "cell_type": "code",
   "execution_count": null,
   "metadata": {},
   "outputs": [
    {
     "name": "stdout",
     "output_type": "stream",
     "text": [
      "This is the general SearchProblem parent class\n",
      "You must extend this class to encode a particular search problem.\n",
      "\n",
      "** Running Brandon's Search Algorithm **\n",
      "Strategy: mode=BF/FIFO, cost=cost, heuristic=TasksRemaining\n",
      "Max search nodes: 50000  (max number added to queue)\n",
      "Searching (will output '.' each 1000 goal_tests)\n",
      "........\n",
      "!! Search node limit (50000) reached !!\n",
      "): No solution found :(\n",
      "\n",
      "\n",
      "SEARCH SPACE STATS:\n",
      "Total nodes generated          =    50001  (includes start)\n",
      "Nodes tested (by goal_test)    =     8433  (all expanded)\n",
      "Nodes left in queue            =    41567\n",
      "\n",
      "Time taken = 6.458 seconds\n",
      "\n"
     ]
    },
    {
     "data": {
      "text/plain": [
       "'NODE_LIMIT_EXCEEDED'"
      ]
     },
     "execution_count": 16,
     "metadata": {},
     "output_type": "execute_result"
    }
   ],
   "source": [
    "search( RW_PROBLEM_1, 'BF/FIFO', 50000, loop_check=False, heuristic=TasksRemaining, cost = cost)"
   ]
  },
  {
   "cell_type": "code",
   "execution_count": null,
   "metadata": {},
   "outputs": [
    {
     "name": "stdout",
     "output_type": "stream",
     "text": [
      "This is the general SearchProblem parent class\n",
      "You must extend this class to encode a particular search problem.\n",
      "\n",
      "** Running Brandon's Search Algorithm **\n",
      "Strategy: mode=BF/FIFO, cost=cost, heuristic=TasksRemaining\n",
      "Max search nodes: 500000  (max number added to queue)\n",
      "Searching (will output '.' each 1000 goal_tests)\n",
      "..............................................................................\n",
      "!! Search node limit (500000) reached !!\n",
      "): No solution found :(\n",
      "\n",
      "\n",
      "SEARCH SPACE STATS:\n",
      "Total nodes generated          =   500001  (includes start)\n",
      "Nodes tested (by goal_test)    =    78357  (all expanded)\n",
      "Nodes left in queue            =   421643\n",
      "\n",
      "Time taken = 75.8145 seconds\n",
      "\n"
     ]
    },
    {
     "data": {
      "text/plain": [
       "'NODE_LIMIT_EXCEEDED'"
      ]
     },
     "execution_count": 17,
     "metadata": {},
     "output_type": "execute_result"
    }
   ],
   "source": [
    "search( RW_PROBLEM_1, 'BF/FIFO', 500000, loop_check=False, heuristic=TasksRemaining, cost = cost)"
   ]
  },
  {
   "cell_type": "code",
   "execution_count": null,
   "metadata": {},
   "outputs": [
    {
     "name": "stdout",
     "output_type": "stream",
     "text": [
      "This is the general SearchProblem parent class\n",
      "You must extend this class to encode a particular search problem.\n",
      "\n",
      "** Running Brandon's Search Algorithm **\n",
      "Strategy: mode=BF/FIFO, cost=cost, heuristic=TasksRemaining\n",
      "Max search nodes: 5000000  (max number added to queue)\n",
      "Searching (will output '.' each 1000 goal_tests)\n",
      ".................................................................................................... (100000)\n",
      ".................................................................................................... (200000)\n",
      ".................................................................................................... (300000)\n",
      ".................................................................................................... (400000)\n",
      ".................................................................................................... (500000)\n",
      ".................................................................................................... (600000)\n",
      ".................................................................................................... (700000)\n",
      ".......................................................\n",
      "!! Search node limit (5000000) reached !!\n",
      "): No solution found :(\n",
      "\n",
      "\n",
      "SEARCH SPACE STATS:\n",
      "Total nodes generated          =  5000001  (includes start)\n",
      "Nodes tested (by goal_test)    =   755397  (all expanded)\n",
      "Nodes left in queue            =  4244603\n",
      "\n",
      "Time taken = 8461.9953 seconds\n",
      "\n"
     ]
    },
    {
     "data": {
      "text/plain": [
       "'NODE_LIMIT_EXCEEDED'"
      ]
     },
     "execution_count": 18,
     "metadata": {},
     "output_type": "execute_result"
    }
   ],
   "source": [
    "search( RW_PROBLEM_1, 'BF/FIFO', 5000000, loop_check=False, heuristic=TasksRemaining, cost = cost)"
   ]
  },
  {
   "cell_type": "code",
   "execution_count": null,
   "metadata": {},
   "outputs": [],
   "source": [
    "#A* case 1"
   ]
  },
  {
   "cell_type": "code",
   "execution_count": null,
   "metadata": {},
   "outputs": [
    {
     "name": "stdout",
     "output_type": "stream",
     "text": [
      "This is the general SearchProblem parent class\n",
      "You must extend this class to encode a particular search problem.\n",
      "\n",
      "** Running Brandon's Search Algorithm **\n",
      "Strategy: mode=BF/FIFO, cost=cost, heuristic=MoveMeds\n",
      "Max search nodes: 5000  (max number added to queue)\n",
      "Searching (will output '.' each 1000 goal_tests)\n",
      "\n",
      "!! Search node limit (5000) reached !!\n",
      "): No solution found :(\n",
      "\n",
      "\n",
      "SEARCH SPACE STATS:\n",
      "Total nodes generated          =     5001  (includes start)\n",
      "Nodes tested (by goal_test)    =      920  (all expanded)\n",
      "Nodes left in queue            =     4080\n",
      "\n",
      "Time taken = 0.4986 seconds\n",
      "\n"
     ]
    },
    {
     "data": {
      "text/plain": [
       "'NODE_LIMIT_EXCEEDED'"
      ]
     },
     "execution_count": 65,
     "metadata": {},
     "output_type": "execute_result"
    }
   ],
   "source": [
    "search( RW_PROBLEM_1, 'BF/FIFO', 5000, loop_check=False, heuristic=MoveMeds, cost = cost)"
   ]
  },
  {
   "cell_type": "code",
   "execution_count": null,
   "metadata": {},
   "outputs": [
    {
     "name": "stdout",
     "output_type": "stream",
     "text": [
      "This is the general SearchProblem parent class\n",
      "You must extend this class to encode a particular search problem.\n",
      "\n",
      "** Running Brandon's Search Algorithm **\n",
      "Strategy: mode=BF/FIFO, cost=cost, heuristic=MoveMeds\n",
      "Max search nodes: 50000  (max number added to queue)\n",
      "Searching (will output '.' each 1000 goal_tests)\n",
      "........\n",
      "!! Search node limit (50000) reached !!\n",
      "): No solution found :(\n",
      "\n",
      "\n",
      "SEARCH SPACE STATS:\n",
      "Total nodes generated          =    50001  (includes start)\n",
      "Nodes tested (by goal_test)    =     8680  (all expanded)\n",
      "Nodes left in queue            =    41320\n",
      "\n",
      "Time taken = 5.2061 seconds\n",
      "\n"
     ]
    },
    {
     "data": {
      "text/plain": [
       "'NODE_LIMIT_EXCEEDED'"
      ]
     },
     "execution_count": 66,
     "metadata": {},
     "output_type": "execute_result"
    }
   ],
   "source": [
    "search( RW_PROBLEM_1, 'BF/FIFO', 50000, loop_check=False, heuristic=MoveMeds, cost = cost)"
   ]
  },
  {
   "cell_type": "code",
   "execution_count": null,
   "metadata": {},
   "outputs": [
    {
     "name": "stdout",
     "output_type": "stream",
     "text": [
      "This is the general SearchProblem parent class\n",
      "You must extend this class to encode a particular search problem.\n",
      "\n",
      "** Running Brandon's Search Algorithm **\n",
      "Strategy: mode=BF/FIFO, cost=cost, heuristic=MoveMeds\n",
      "Max search nodes: 500000  (max number added to queue)\n",
      "Searching (will output '.' each 1000 goal_tests)\n",
      "...............................................................................\n",
      "!! Search node limit (500000) reached !!\n",
      "): No solution found :(\n",
      "\n",
      "\n",
      "SEARCH SPACE STATS:\n",
      "Total nodes generated          =   500001  (includes start)\n",
      "Nodes tested (by goal_test)    =    79747  (all expanded)\n",
      "Nodes left in queue            =   420253\n",
      "\n",
      "Time taken = 97.6318 seconds\n",
      "\n"
     ]
    },
    {
     "data": {
      "text/plain": [
       "'NODE_LIMIT_EXCEEDED'"
      ]
     },
     "execution_count": 68,
     "metadata": {},
     "output_type": "execute_result"
    }
   ],
   "source": [
    "search( RW_PROBLEM_1, 'BF/FIFO', 500000, loop_check=False, heuristic=MoveMeds, cost = cost)"
   ]
  },
  {
   "cell_type": "code",
   "execution_count": 69,
   "metadata": {},
   "outputs": [
    {
     "name": "stdout",
     "output_type": "stream",
     "text": [
      "This is the general SearchProblem parent class\n",
      "You must extend this class to encode a particular search problem.\n",
      "\n",
      "** Running Brandon's Search Algorithm **\n",
      "Strategy: mode=BF/FIFO, cost=cost, heuristic=MoveMeds\n",
      "Max search nodes: 5000000  (max number added to queue)\n",
      "Searching (will output '.' each 1000 goal_tests)\n",
      ".................................................................................................... (100000)\n",
      ".................................................................................................... (200000)\n",
      ".................................................................................................... (300000)\n",
      "................................."
     ]
    },
    {
     "ename": "KeyboardInterrupt",
     "evalue": "",
     "output_type": "error",
     "traceback": [
      "\u001b[1;31m---------------------------------------------------------------------------\u001b[0m",
      "\u001b[1;31mKeyboardInterrupt\u001b[0m                         Traceback (most recent call last)",
      "\u001b[1;32m<ipython-input-69-5867d3a8b283>\u001b[0m in \u001b[0;36m<module>\u001b[1;34m\u001b[0m\n\u001b[1;32m----> 1\u001b[1;33m \u001b[0msearch\u001b[0m\u001b[1;33m(\u001b[0m \u001b[0mRW_PROBLEM_1\u001b[0m\u001b[1;33m,\u001b[0m \u001b[1;34m'BF/FIFO'\u001b[0m\u001b[1;33m,\u001b[0m \u001b[1;36m5000000\u001b[0m\u001b[1;33m,\u001b[0m \u001b[0mloop_check\u001b[0m\u001b[1;33m=\u001b[0m\u001b[1;32mFalse\u001b[0m\u001b[1;33m,\u001b[0m \u001b[0mheuristic\u001b[0m\u001b[1;33m=\u001b[0m\u001b[0mMoveMeds\u001b[0m\u001b[1;33m,\u001b[0m \u001b[0mcost\u001b[0m \u001b[1;33m=\u001b[0m \u001b[0mcost\u001b[0m\u001b[1;33m)\u001b[0m\u001b[1;33m\u001b[0m\u001b[1;33m\u001b[0m\u001b[0m\n\u001b[0m",
      "\u001b[1;32m~\\Desktop\\y2 sem2\\Artificial Intelligence\\CW1\\bbmodcache\\bbSearch.py\u001b[0m in \u001b[0;36msearch\u001b[1;34m(problem, mode, max_nodes, loop_check, randomise, cost, heuristic, show_path, show_state_path, dots, return_info)\u001b[0m\n\u001b[0;32m    399\u001b[0m                         \u001b[0mprint\u001b[0m\u001b[1;33m(\u001b[0m \u001b[1;34mf' ({nodes_tested})'\u001b[0m\u001b[1;33m,\u001b[0m \u001b[0mflush\u001b[0m\u001b[1;33m=\u001b[0m\u001b[1;32mTrue\u001b[0m\u001b[1;33m)\u001b[0m\u001b[1;33m\u001b[0m\u001b[1;33m\u001b[0m\u001b[0m\n\u001b[0;32m    400\u001b[0m \u001b[1;33m\u001b[0m\u001b[0m\n\u001b[1;32m--> 401\u001b[1;33m         \u001b[0mpath\u001b[0m\u001b[1;33m,\u001b[0m \u001b[0mstate\u001b[0m \u001b[1;33m=\u001b[0m \u001b[0mqueue\u001b[0m\u001b[1;33m.\u001b[0m\u001b[0mpop\u001b[0m\u001b[1;33m(\u001b[0m\u001b[1;33m)\u001b[0m\u001b[1;33m\u001b[0m\u001b[1;33m\u001b[0m\u001b[0m\n\u001b[0m\u001b[0;32m    402\u001b[0m         \u001b[0mnodes_tested\u001b[0m \u001b[1;33m+=\u001b[0m \u001b[1;36m1\u001b[0m\u001b[1;33m\u001b[0m\u001b[1;33m\u001b[0m\u001b[0m\n\u001b[0;32m    403\u001b[0m         \u001b[1;32mif\u001b[0m \u001b[0mproblem\u001b[0m\u001b[1;33m.\u001b[0m\u001b[0mgoal_test\u001b[0m\u001b[1;33m(\u001b[0m\u001b[0mstate\u001b[0m\u001b[1;33m)\u001b[0m\u001b[1;33m:\u001b[0m\u001b[1;33m\u001b[0m\u001b[1;33m\u001b[0m\u001b[0m\n",
      "\u001b[1;32m~\\Desktop\\y2 sem2\\Artificial Intelligence\\CW1\\bbmodcache\\bbSearch.py\u001b[0m in \u001b[0;36mpop\u001b[1;34m(self)\u001b[0m\n\u001b[0;32m    329\u001b[0m \u001b[1;33m\u001b[0m\u001b[0m\n\u001b[0;32m    330\u001b[0m     \u001b[1;32mdef\u001b[0m \u001b[0mpop\u001b[0m\u001b[1;33m(\u001b[0m\u001b[0mself\u001b[0m\u001b[1;33m)\u001b[0m\u001b[1;33m:\u001b[0m\u001b[1;33m\u001b[0m\u001b[1;33m\u001b[0m\u001b[0m\n\u001b[1;32m--> 331\u001b[1;33m         \u001b[1;32mreturn\u001b[0m \u001b[0mself\u001b[0m\u001b[1;33m.\u001b[0m\u001b[0mwq\u001b[0m\u001b[1;33m.\u001b[0m\u001b[0mpop\u001b[0m\u001b[1;33m(\u001b[0m\u001b[1;33m)\u001b[0m\u001b[1;33m\u001b[0m\u001b[1;33m\u001b[0m\u001b[0m\n\u001b[0m\u001b[0;32m    332\u001b[0m \u001b[1;33m\u001b[0m\u001b[0m\n\u001b[0;32m    333\u001b[0m \u001b[1;33m\u001b[0m\u001b[0m\n",
      "\u001b[1;32m~\\Desktop\\y2 sem2\\Artificial Intelligence\\CW1\\bbmodcache\\bbSearch.py\u001b[0m in \u001b[0;36mpop_weighted\u001b[1;34m(self)\u001b[0m\n\u001b[0;32m    280\u001b[0m     \u001b[1;32mdef\u001b[0m \u001b[0mpop_weighted\u001b[0m\u001b[1;33m(\u001b[0m\u001b[0mself\u001b[0m\u001b[1;33m)\u001b[0m\u001b[1;33m:\u001b[0m\u001b[1;33m\u001b[0m\u001b[1;33m\u001b[0m\u001b[0m\n\u001b[0;32m    281\u001b[0m         \u001b[0mself\u001b[0m\u001b[1;33m.\u001b[0m\u001b[0mweights\u001b[0m\u001b[1;33m.\u001b[0m\u001b[0mpop\u001b[0m\u001b[1;33m(\u001b[0m\u001b[1;36m0\u001b[0m\u001b[1;33m)\u001b[0m\u001b[1;33m\u001b[0m\u001b[1;33m\u001b[0m\u001b[0m\n\u001b[1;32m--> 282\u001b[1;33m         \u001b[1;32mreturn\u001b[0m \u001b[0mself\u001b[0m\u001b[1;33m.\u001b[0m\u001b[0mitems\u001b[0m\u001b[1;33m.\u001b[0m\u001b[0mpop\u001b[0m\u001b[1;33m(\u001b[0m\u001b[1;36m0\u001b[0m\u001b[1;33m)\u001b[0m\u001b[1;33m\u001b[0m\u001b[1;33m\u001b[0m\u001b[0m\n\u001b[0m\u001b[0;32m    283\u001b[0m \u001b[1;33m\u001b[0m\u001b[0m\n\u001b[0;32m    284\u001b[0m     \u001b[1;32mdef\u001b[0m \u001b[0mdisplay\u001b[0m\u001b[1;33m(\u001b[0m\u001b[0mself\u001b[0m\u001b[1;33m)\u001b[0m\u001b[1;33m:\u001b[0m\u001b[1;33m\u001b[0m\u001b[1;33m\u001b[0m\u001b[0m\n",
      "\u001b[1;31mKeyboardInterrupt\u001b[0m: "
     ]
    }
   ],
   "source": [
    "search( RW_PROBLEM_1, 'BF/FIFO', 5000000, loop_check=False, heuristic=MoveMeds, cost = cost)"
   ]
  },
  {
   "cell_type": "code",
   "execution_count": 70,
   "metadata": {},
   "outputs": [
    {
     "name": "stdout",
     "output_type": "stream",
     "text": [
      "This is the general SearchProblem parent class\n",
      "You must extend this class to encode a particular search problem.\n",
      "\n",
      "** Running Brandon's Search Algorithm **\n",
      "Strategy: mode=BF/FIFO, cost=cost, heuristic=MoveMeds\n",
      "Max search nodes: 5000  (max number added to queue)\n",
      "Searching (will output '.' each 1000 goal_tests)\n",
      ".\n",
      "!! Search node limit (5000) reached !!\n",
      "): No solution found :(\n",
      "\n",
      "\n",
      "SEARCH SPACE STATS:\n",
      "Total nodes generated          =     8715  (includes start)\n",
      "Nodes discarded by loop_check  =     3714  (5001 distinct states added to queue)\n",
      "Nodes tested (by goal_test)    =     1372  (all expanded)\n",
      "Nodes left in queue            =     3628\n",
      "\n",
      "Time taken = 1.0738 seconds\n",
      "\n"
     ]
    },
    {
     "data": {
      "text/plain": [
       "'NODE_LIMIT_EXCEEDED'"
      ]
     },
     "execution_count": 70,
     "metadata": {},
     "output_type": "execute_result"
    }
   ],
   "source": [
    "search( RW_PROBLEM_1, 'BF/FIFO', 5000, loop_check=True, heuristic=MoveMeds, cost = cost)"
   ]
  },
  {
   "cell_type": "code",
   "execution_count": 71,
   "metadata": {},
   "outputs": [
    {
     "name": "stdout",
     "output_type": "stream",
     "text": [
      "This is the general SearchProblem parent class\n",
      "You must extend this class to encode a particular search problem.\n",
      "\n",
      "** Running Brandon's Search Algorithm **\n",
      "Strategy: mode=BF/FIFO, cost=cost, heuristic=MoveMeds\n",
      "Max search nodes: 50000  (max number added to queue)\n",
      "Searching (will output '.' each 1000 goal_tests)\n",
      "...............\n",
      "!! Search node limit (50000) reached !!\n",
      "): No solution found :(\n",
      "\n",
      "\n",
      "SEARCH SPACE STATS:\n",
      "Total nodes generated          =   105638  (includes start)\n",
      "Nodes discarded by loop_check  =    55637  (50001 distinct states added to queue)\n",
      "Nodes tested (by goal_test)    =    15556  (all expanded)\n",
      "Nodes left in queue            =    34444\n",
      "\n",
      "Time taken = 12.9813 seconds\n",
      "\n"
     ]
    },
    {
     "data": {
      "text/plain": [
       "'NODE_LIMIT_EXCEEDED'"
      ]
     },
     "execution_count": 71,
     "metadata": {},
     "output_type": "execute_result"
    }
   ],
   "source": [
    "search( RW_PROBLEM_1, 'BF/FIFO', 50000, loop_check=True, heuristic=MoveMeds, cost = cost)"
   ]
  },
  {
   "cell_type": "code",
   "execution_count": 72,
   "metadata": {},
   "outputs": [
    {
     "name": "stdout",
     "output_type": "stream",
     "text": [
      "This is the general SearchProblem parent class\n",
      "You must extend this class to encode a particular search problem.\n",
      "\n",
      "** Running Brandon's Search Algorithm **\n",
      "Strategy: mode=BF/FIFO, cost=cost, heuristic=MoveMeds\n",
      "Max search nodes: 500000  (max number added to queue)\n",
      "Searching (will output '.' each 1000 goal_tests)\n",
      ".................................................................................................... (100000)\n",
      "...............................................................................\n",
      "!! Search node limit (500000) reached !!\n",
      "): No solution found :(\n",
      "\n",
      "\n",
      "SEARCH SPACE STATS:\n",
      "Total nodes generated          =  1275341  (includes start)\n",
      "Nodes discarded by loop_check  =   775340  (500001 distinct states added to queue)\n",
      "Nodes tested (by goal_test)    =   179140  (all expanded)\n",
      "Nodes left in queue            =   320860\n",
      "\n",
      "Time taken = 190.5865 seconds\n",
      "\n"
     ]
    },
    {
     "data": {
      "text/plain": [
       "'NODE_LIMIT_EXCEEDED'"
      ]
     },
     "execution_count": 72,
     "metadata": {},
     "output_type": "execute_result"
    }
   ],
   "source": [
    "search( RW_PROBLEM_1, 'BF/FIFO', 500000, loop_check=True, heuristic=MoveMeds, cost = cost)"
   ]
  },
  {
   "cell_type": "code",
   "execution_count": 73,
   "metadata": {},
   "outputs": [
    {
     "name": "stdout",
     "output_type": "stream",
     "text": [
      "This is the general SearchProblem parent class\n",
      "You must extend this class to encode a particular search problem.\n",
      "\n",
      "** Running Brandon's Search Algorithm **\n",
      "Strategy: mode=BF/FIFO, cost=cost, heuristic=MoveMeds\n",
      "Max search nodes: 5000000  (max number added to queue)\n",
      "Searching (will output '.' each 1000 goal_tests)\n",
      ".................................................................................................... (100000)\n",
      "..............................................................................................\n",
      ":-)) *SUCCESS* ((-:\n",
      "\n",
      "Path length = 14\n",
      "Goal state is:\n",
      "Robot location: Waste Disposal\n",
      "Robot carrying: []\n",
      "Room contents: {'Doctor Office': {'AOTD'}, 'Patient Ward': set(), 'Pharmacy': {'PresPackageC', 'PresPackageB', 'PresPackageA', 'PresPackageD'}, 'Waste Disposal': {'WasteE', 'WasteB', 'WasteC', 'WasteD', 'WasteA'}}\n",
      "Cost of reaching goal: 14\n",
      "The action path to the solution is:\n",
      "    ('move to', 'Patient Ward')\n",
      "    ('pick up', 'WasteB')\n",
      "    ('pick up', 'WasteA')\n",
      "    ('move to', 'Doctor Office')\n",
      "    ('pick up', 'WasteE')\n",
      "    ('move to', 'Patient Ward')\n",
      "    ('move to', 'Pharmacy')\n",
      "    ('pick up', 'WasteD')\n",
      "    ('move to', 'Patient Ward')\n",
      "    ('move to', 'Waste Disposal')\n",
      "    ('put down', 'WasteB')\n",
      "    ('put down', 'WasteA')\n",
      "    ('put down', 'WasteE')\n",
      "    ('put down', 'WasteD')\n",
      "\n",
      "\n",
      "SEARCH SPACE STATS:\n",
      "Total nodes generated          =  1367949  (includes start)\n",
      "Nodes discarded by loop_check  =   835780  (532169 distinct states added to queue)\n",
      "Nodes tested (by goal_test)    =   194589  (194588 expanded + 1 goal)\n",
      "Nodes left in queue            =   337580\n",
      "\n",
      "Time taken = 228.0065 seconds\n",
      "\n"
     ]
    },
    {
     "data": {
      "text/plain": [
       "'GOAL_STATE_FOUND'"
      ]
     },
     "execution_count": 73,
     "metadata": {},
     "output_type": "execute_result"
    }
   ],
   "source": [
    "search( RW_PROBLEM_1, 'BF/FIFO', 5000000, loop_check=True, heuristic=MoveMeds, cost = cost)"
   ]
  },
  {
   "cell_type": "code",
   "execution_count": null,
   "metadata": {},
   "outputs": [],
   "source": [
    "#search( RW_PROBLEM_1, 'DF/LIFO', 500000, loop_check=False, randomise = False)"
   ]
  },
  {
   "cell_type": "code",
   "execution_count": null,
   "metadata": {},
   "outputs": [],
   "source": [
    "#The robot must collect waste from every room and leave in in the Waste Disposal Room"
   ]
  }
 ],
 "metadata": {
  "kernelspec": {
   "display_name": "Python 3",
   "language": "python",
   "name": "python3"
  },
  "language_info": {
   "codemirror_mode": {
    "name": "ipython",
    "version": 3
   },
   "file_extension": ".py",
   "mimetype": "text/x-python",
   "name": "python",
   "nbconvert_exporter": "python",
   "pygments_lexer": "ipython3",
   "version": "3.9.12"
  }
 },
 "nbformat": 4,
 "nbformat_minor": 5
}
